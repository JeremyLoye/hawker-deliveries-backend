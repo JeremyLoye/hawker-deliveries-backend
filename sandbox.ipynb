{
 "cells": [
  {
   "cell_type": "code",
   "execution_count": 37,
   "metadata": {},
   "outputs": [],
   "source": [
    "import configparser\n",
    "import pymongo\n",
    "\n",
    "config = configparser.ConfigParser()\n",
    "config.read(\"credentials.ini\")\n",
    "\n",
    "client = pymongo.MongoClient(\"mongodb+srv://{}:{}@cluster0-fbceu.mongodb.net/test?retryWrites=true&w=majority\".format(config['MONGO']['user'], config['MONGO']['password']))\n",
    "db = client.hawkerv1"
   ]
  },
  {
   "cell_type": "code",
   "execution_count": 2,
   "metadata": {},
   "outputs": [],
   "source": [
    "def fetch_all_hawkers(db, _id=0):\n",
    "    hawkers = []\n",
    "    for doc in db.hawker.find({}, {\"_id\": _id}):\n",
    "        hawkers.append(doc)\n",
    "    return hawkers\n",
    "\n",
    "def fetch_hawker_by_code(db, code, _id=0):\n",
    "    return db.hawker.find_one({\"code\": code}, {\"_id\": _id})\n",
    "\n",
    "def insert_hawker(db, name, code, address, image):\n",
    "    if fetch_hawker_by_code(db, code):\n",
    "        raise Exception(\"Hawker with code {} already exists!\".format(code))\n",
    "    return db['hawker'].insert_one({\n",
    "        \"name\": name,\n",
    "        \"code\": code,\n",
    "        \"address\": address,\n",
    "        \"image\": image\n",
    "    }).inserted_id\n",
    "\n",
    "def del_hawker(db, code):\n",
    "    return db.hawker.delete_one({\"code\": code}).deleted_count\n",
    "\n",
    "def update_hawker(db, code, hawker):\n",
    "    return db.hawker.find_one_and_update({\"code\": code}, {\"$set\": hawker})"
   ]
  },
  {
   "cell_type": "code",
   "execution_count": 169,
   "metadata": {},
   "outputs": [],
   "source": [
    "name = \"Telok Blangah Rise Market & Food Centre\"\n",
    "code = \"TBR\"\n",
    "address = \"36 Telok Blangah Rise, Singapore 090036\"\n",
    "image = \"\"\n",
    "#inserted_id = insert_hawker(db, name, code, address, image).inserted_id\n",
    "\n",
    "#modified = update_hawker(db, \"THM\", {\"address\": \"48A Tanglin Halt Rd, Singapore 148813\"})\n",
    "x = update_hawker(db, \"TBR\", {\"image\": \"\", \"name\": \"Telok Blangah Rise Market & Food Centre\"})"
   ]
  },
  {
   "cell_type": "code",
   "execution_count": 170,
   "metadata": {},
   "outputs": [
    {
     "data": {
      "text/plain": [
       "{'_id': ObjectId('5ebf8ea87ae65def16a8c643'),\n",
       " 'name': 'Telok Blangah Rise Market & Food Centre',\n",
       " 'code': 'TBR',\n",
       " 'address': '36 Telok Blangah Rise, Singapore 090036',\n",
       " 'image': ''}"
      ]
     },
     "execution_count": 170,
     "metadata": {},
     "output_type": "execute_result"
    }
   ],
   "source": []
  },
  {
   "cell_type": "code",
   "execution_count": 167,
   "metadata": {},
   "outputs": [
    {
     "data": {
      "text/plain": [
       "{'name': 'Telok Blangah Rise Market & Food Centre',\n",
       " 'code': 'TBR',\n",
       " 'address': '36 Telok Blangah Rise, Singapore 090036',\n",
       " 'image': ''}"
      ]
     },
     "execution_count": 167,
     "metadata": {},
     "output_type": "execute_result"
    }
   ],
   "source": [
    "fetch_hawker_by_code(db, \"TBR\")"
   ]
  },
  {
   "cell_type": "code",
   "execution_count": 3,
   "metadata": {},
   "outputs": [],
   "source": [
    "def fetch_stall_by_id(db, stallId, _id=0):\n",
    "    return db.stall.find_one({\"stallId\": stallId}, {\"_id\": _id})\n",
    "\n",
    "def fetch_stalls_by_location(db, location, _id=0):\n",
    "    return [doc for doc in db.stall.find({\"location\": location}, {\"_id\": _id})]\n",
    "\n",
    "def insert_stall(db, name, stall_type, location, image, stallNo, food, about, contact):\n",
    "    stallId = \"{}_{}\".format(location, stallNo)\n",
    "    if fetch_stall_by_id(db, stallId):\n",
    "        raise Exception(\"Store already exists!\")\n",
    "    stall = {\n",
    "        \"name\": name,\n",
    "        \"type\": stall_type,\n",
    "        \"location\": location,\n",
    "        \"image\": image,\n",
    "        \"stallNo\": stallNo,\n",
    "        \"stallId\": stallId,\n",
    "        \"food\": food,\n",
    "        \"about\": about,\n",
    "        \"contact\": contact\n",
    "    }\n",
    "    inserted_stall = db['stall'].insert_one(stall).inserted_id\n",
    "    return inserted_stall\n",
    "\n",
    "def del_stall(db, stallId):\n",
    "    return db.stall.delete_one({\"stallId\": stallId}).deleted_count\n",
    "\n",
    "def update_stall(db, stallId, stall):\n",
    "    return db.stall.find_one_and_update({\"stallId\": stallId}, {\"$set\": stall})"
   ]
  },
  {
   "cell_type": "code",
   "execution_count": 193,
   "metadata": {},
   "outputs": [],
   "source": [
    "name = \"Mei Wei Xiao Chi\"\n",
    "stall_type = [\"Food\", \"Dessert\"]\n",
    "location = \"THM\"\n",
    "stallNo = \"01-02\"\n",
    "food = [\n",
    "    {\n",
    "        \"name\": \"Fried Mee Hoon\",\n",
    "        \"id\": 1,\n",
    "        \"description\": \"\",\n",
    "        \"price\": 1.2,\n",
    "        \"image\": \"\",\n",
    "        \"available\": True\n",
    "    },\n",
    "    {\n",
    "        \"name\": \"Fried Bee Hoon\",\n",
    "        \"id\": 2,\n",
    "        \"description\": \"\",\n",
    "        \"price\": 1.2,\n",
    "        \"image\": \"\",\n",
    "        \"available\": True\n",
    "    },\n",
    "    {\n",
    "        \"name\": \"Fried Mee + Bee Hoon ($1.20)\",\n",
    "        \"id\": 3,\n",
    "        \"description\": \"\",\n",
    "        \"price\": 1.2,\n",
    "        \"image\": \"\",\n",
    "        \"available\": True\n",
    "    },\n",
    "    {\n",
    "        \"name\": \"Fried Mee + Bee Hoon ($1.50)\",\n",
    "        \"id\": 4,\n",
    "        \"description\": \"\",\n",
    "        \"price\": 1.5,\n",
    "        \"image\": \"\",\n",
    "        \"available\": True\n",
    "    },\n",
    "    {\n",
    "        \"name\": \"Peanut Porridge\",\n",
    "        \"id\": 5,\n",
    "        \"description\": \"\",\n",
    "        \"price\": 1.1,\n",
    "        \"image\": \"\",\n",
    "        \"available\": True\n",
    "    },\n",
    "    {\n",
    "        \"name\": \"Red Bean Soup\",\n",
    "        \"id\": 6,\n",
    "        \"description\": \"\",\n",
    "        \"price\": 1.1,\n",
    "        \"image\": \"\",\n",
    "        \"available\": True\n",
    "    },\n",
    "    {\n",
    "        \"name\": \"Green Bean Soup\",\n",
    "        \"id\": 7,\n",
    "        \"description\": \"\",\n",
    "        \"price\": 1.1,\n",
    "        \"image\": \"\",\n",
    "        \"available\": True\n",
    "    },\n",
    "    {\n",
    "        \"name\": \"Bubur Hitam\",\n",
    "        \"id\": 8,\n",
    "        \"description\": \"\",\n",
    "        \"price\": 1.1,\n",
    "        \"image\": \"\",\n",
    "        \"available\": True\n",
    "    },\n",
    "    {\n",
    "        \"name\": \"Chicken Wing\",\n",
    "        \"id\": 9,\n",
    "        \"description\": \"\",\n",
    "        \"price\": 1.1,\n",
    "        \"image\": \"\",\n",
    "        \"available\": True\n",
    "    }\n",
    "]\n",
    "about = {\n",
    "    \"recommended\": \"Bee Hoon, Dessert\",\n",
    "    \"description\": \"\",\n",
    "    \"images\": []\n",
    "}\n",
    "contact = {\n",
    "    \"poc\": \"\",\n",
    "    \"number\": \"\",\n",
    "    \"openingHours\": \"\"\n",
    "}\n",
    "stall_id = insert_stall(db, name, stall_type, location, stallNo, food, about, contact)"
   ]
  },
  {
   "cell_type": "code",
   "execution_count": 13,
   "metadata": {},
   "outputs": [],
   "source": [
    "stalls = fetch_stalls_by_location(db, \"THM\")"
   ]
  },
  {
   "cell_type": "code",
   "execution_count": 20,
   "metadata": {},
   "outputs": [
    {
     "data": {
      "text/plain": [
       "ObjectId('5ec27af7303aa9d086371271')"
      ]
     },
     "execution_count": 20,
     "metadata": {},
     "output_type": "execute_result"
    }
   ],
   "source": [
    "insert_stall(db, stall['name'], stall['type'], stall['location'], stall['image'], stall['stallNo'], stall['food'], stall['about'], stall['contact'])"
   ]
  },
  {
   "cell_type": "code",
   "execution_count": 19,
   "metadata": {},
   "outputs": [
    {
     "data": {
      "text/plain": [
       "{'name': 'Cafe 66',\n",
       " 'type': ['Drinks'],\n",
       " 'location': 'THM',\n",
       " 'stallNo': '01-01',\n",
       " 'stallId': 'THM_01-01',\n",
       " 'food': [{'available': True,\n",
       "   'description': 'Black coffee',\n",
       "   'id': 1,\n",
       "   'image': '',\n",
       "   'name': \"Coffee 'O'\",\n",
       "   'price': 0.7},\n",
       "  {'available': True,\n",
       "   'description': '',\n",
       "   'id': 2,\n",
       "   'image': '',\n",
       "   'name': 'Coffee w Milk',\n",
       "   'price': 0.9},\n",
       "  {'available': True,\n",
       "   'description': 'Black tea',\n",
       "   'id': 3,\n",
       "   'image': '',\n",
       "   'name': \"Tea 'O'\",\n",
       "   'price': 0.7},\n",
       "  {'available': True,\n",
       "   'description': '',\n",
       "   'id': 4,\n",
       "   'image': '',\n",
       "   'name': 'Tea w Milk',\n",
       "   'price': 0.9},\n",
       "  {'available': True,\n",
       "   'description': '',\n",
       "   'id': 5,\n",
       "   'image': '',\n",
       "   'name': \"Milo 'O'\",\n",
       "   'price': 1},\n",
       "  {'available': True,\n",
       "   'description': '',\n",
       "   'id': 6,\n",
       "   'image': '',\n",
       "   'name': 'Milo w Milk',\n",
       "   'price': 1.1},\n",
       "  {'available': True,\n",
       "   'description': '',\n",
       "   'id': 7,\n",
       "   'image': '',\n",
       "   'name': 'Iced Milo',\n",
       "   'price': 1.7}],\n",
       " 'about': {'description': 'Coffee stall running since 1966',\n",
       "  'images': [],\n",
       "  'recommended': 'Coffe, Tea',\n",
       "  'urls': []},\n",
       " 'contact': {'number': '', 'openingHours': '', 'poc': ''},\n",
       " 'image': ''}"
      ]
     },
     "execution_count": 19,
     "metadata": {},
     "output_type": "execute_result"
    }
   ],
   "source": [
    "stall"
   ]
  },
  {
   "cell_type": "code",
   "execution_count": 12,
   "metadata": {},
   "outputs": [
    {
     "data": {
      "text/plain": [
       "{'_id': ObjectId('5ec187702cbda5bc4ebfd54b'),\n",
       " 'name': 'Da Xi Hainanese Chicken Rice Stall',\n",
       " 'type': ['Food'],\n",
       " 'location': 'THM',\n",
       " 'image': '',\n",
       " 'stallNo': '01-19',\n",
       " 'stallId': 'THM_01-19',\n",
       " 'food': [{'id': 1,\n",
       "   'name': 'Roasted Chicken Rice',\n",
       "   'price': '3',\n",
       "   'description': '',\n",
       "   'image': '',\n",
       "   'available': True},\n",
       "  {'id': 2,\n",
       "   'name': 'Steamed Chicken Rice',\n",
       "   'price': '3',\n",
       "   'description': '',\n",
       "   'image': '',\n",
       "   'available': True}],\n",
       " 'about': {'recommended': '', 'description': '', 'images': []},\n",
       " 'contact': {}}"
      ]
     },
     "execution_count": 12,
     "metadata": {},
     "output_type": "execute_result"
    }
   ],
   "source": [
    "stall = stalls[2]\n",
    "stall['about']['urls'] = []\n",
    "update_stall(db, stall['stallId'], stall)"
   ]
  },
  {
   "cell_type": "code",
   "execution_count": 115,
   "metadata": {},
   "outputs": [
    {
     "data": {
      "text/plain": [
       "[{'name': 'Tanglin Halt Market',\n",
       "  'code': 'THM',\n",
       "  'address': '48A Tanglin Halt Rd, Singapore 148813',\n",
       "  'image': '',\n",
       "  'date': '16052020',\n",
       "  'stalls': [{'stallId': 'THM_01-01',\n",
       "    'name': 'Cafe 66',\n",
       "    'food': [{'name': \"Coffee 'O'\",\n",
       "      'id': 1,\n",
       "      'description': 'Black coffee',\n",
       "      'price': 0.7,\n",
       "      'image': '',\n",
       "      'available': True,\n",
       "      'quantity': -1},\n",
       "     {'name': 'Coffee w Milk',\n",
       "      'id': 2,\n",
       "      'description': '',\n",
       "      'price': 0.9,\n",
       "      'image': '',\n",
       "      'available': True,\n",
       "      'quantity': -1}]}],\n",
       "  'orderAvailable': True,\n",
       "  'meal': 'lunch'}]"
      ]
     },
     "execution_count": 115,
     "metadata": {},
     "output_type": "execute_result"
    }
   ],
   "source": [
    "import datetime\n",
    "\n",
    "today = datetime.datetime.now().strftime(\"%d%m%Y\")\n",
    "[doc for doc in db.dailyListing.find({\"date\": {\"$gte\": today}}, {\"_id\": 0})]"
   ]
  },
  {
   "cell_type": "code",
   "execution_count": 4,
   "metadata": {},
   "outputs": [],
   "source": [
    "def fetch_all_listings(db, _id=0):\n",
    "    today = datetime.datetime.now().strftime(\"%d%m%Y\")\n",
    "    return [doc for doc in db.dailyListing.find({\"date\": {\"$gte\": today}}, {\"_id\": _id})]\n",
    "\n",
    "def fetch_listing(db, date, _id=0):\n",
    "    listing = db.dailyListing.find_one({\"date\": date}, {\"_id\": _id})\n",
    "    listing['stalls'].sort(key=lambda x: x['stallId'])\n",
    "    listing['stalls'].sort(key=lambda x: x['available'], reverse=True)\n",
    "    return listing\n",
    "\n",
    "def insert_listing(db, date, code, meal, orderAvailable=True):\n",
    "    if fetch_listing(db, date):\n",
    "        raise Exception(\"Listing for this date already exists, use update instead!\")\n",
    "    listing = fetch_hawker_by_code(db, code)\n",
    "    listing['date'] = date\n",
    "    listing['stalls'] = []\n",
    "    for stall in fetch_stalls_by_location(db, code):\n",
    "        listing['stalls'].append({\n",
    "            \"stallId\": stall['stallId'],\n",
    "            \"name\": stall['name'],\n",
    "            \"type\": stall['type'],\n",
    "            \"image\": stall['image'],\n",
    "            \"available\": True,\n",
    "            \"food\": [{**food, 'quantity': -1} for food in stall['food'] if food['available']]\n",
    "        })\n",
    "    listing['orderAvailable'] = orderAvailable\n",
    "    listing['meal'] = meal\n",
    "    return db.dailyListing.insert_one(listing).inserted_id\n",
    "\n",
    "def del_listing(db, date):\n",
    "    return db.dailyListing.delete_one({\"date\": date}).deleted_count\n",
    "\n",
    "def update_stall_availability(db, date, stallId, availability):\n",
    "    listing = fetch_listing(db, date)\n",
    "    if not listing:\n",
    "        raise Exception(\"Listing unavailable for this date\")\n",
    "    stalls = listing['stalls']\n",
    "    for stall in stalls:\n",
    "        if stall['stallId'] == stallId:\n",
    "            stall['available'] = availability\n",
    "            updated = db.dailyListing.update_one({\"date\": date}, {\"$set\": {\"stalls\": stalls}}).modified_count\n",
    "            return updated\n",
    "    raise Exception(\"No such stall in this listing\")\n",
    "    \n",
    "def update_food_quantity(db, date, stallId, foodId, quantity):\n",
    "    listing = fetch_listing(db, date)\n",
    "    if not listing:\n",
    "        raise Exception(\"Listing unavailable for this date\")\n",
    "    stalls = listing['stalls']\n",
    "    for stall in stalls:\n",
    "        if stall['stallId'] == stallId:\n",
    "            for food in stall['food']:\n",
    "                if food['id'] == foodId:\n",
    "                    food['quantity'] = quantity\n",
    "                    updated = db.dailyListing.update_one({\"date\": date}, {\"$set\": {\"stalls\": stalls}}).modified_count\n",
    "                    return updated\n",
    "    raise Exception(\"No such stall or food in this listing\")\n",
    "    \n",
    "def fetch_stall_for_date(db, stallId, date, _id=0):\n",
    "    stall = db.dailyListing.find_one({\"date\": date}, {\"stalls\": {\"$elemMatch\": {\"stallId\": stallId}}, \"_id\": _id})['stalls'][0]\n",
    "    new_info = fetch_stall_by_id(db, stall['stallId'])\n",
    "    stall['about'] = new_info['about']\n",
    "    stall['contact'] = new_info['contact']\n",
    "    stall['stallNo'] = new_info['stallNo']\n",
    "    return stall"
   ]
  },
  {
   "cell_type": "code",
   "execution_count": 16,
   "metadata": {},
   "outputs": [
    {
     "data": {
      "text/plain": [
       "[{'name': 'Cafe 66', 'stallNo': '01-01', 'stallId': 'THM_01-01'},\n",
       " {'name': 'Mei Wei Xiao Chi', 'stallNo': '01-02', 'stallId': 'THM_01-02'},\n",
       " {'name': 'Da Xi Hainanese Chicken Rice Stall',\n",
       "  'stallNo': '01-19',\n",
       "  'stallId': 'THM_01-19'}]"
      ]
     },
     "execution_count": 16,
     "metadata": {},
     "output_type": "execute_result"
    }
   ],
   "source": [
    "[doc for doc in db.stall.find({\"location\":\"THM\"}, {\"_id\":0, \"stallId\":1, \"name\":1, \"stallNo\": 1}, sort=[(\"stallId\",1)])]"
   ]
  },
  {
   "cell_type": "code",
   "execution_count": 145,
   "metadata": {},
   "outputs": [
    {
     "data": {
      "text/plain": [
       "1"
      ]
     },
     "execution_count": 145,
     "metadata": {},
     "output_type": "execute_result"
    }
   ],
   "source": [
    "update_stall_availability(db, \"16052020\", \"THM_01-01\", True)"
   ]
  },
  {
   "cell_type": "code",
   "execution_count": 68,
   "metadata": {},
   "outputs": [
    {
     "data": {
      "text/plain": [
       "{'stallId': 'THM_01-01',\n",
       " 'name': 'Cafe 66',\n",
       " 'type': ['Drinks'],\n",
       " 'image': '',\n",
       " 'available': False,\n",
       " 'food': [{'name': \"Coffee 'O'\",\n",
       "   'id': 1,\n",
       "   'description': 'Black coffee',\n",
       "   'price': 0.7,\n",
       "   'image': '',\n",
       "   'available': True,\n",
       "   'quantity': -1},\n",
       "  {'name': 'Coffee w Milk',\n",
       "   'id': 2,\n",
       "   'description': '',\n",
       "   'price': 0.9,\n",
       "   'image': '',\n",
       "   'available': True,\n",
       "   'quantity': -1},\n",
       "  {'name': \"Tea 'O'\",\n",
       "   'id': 3,\n",
       "   'description': 'Black tea',\n",
       "   'price': 0.7,\n",
       "   'image': '',\n",
       "   'available': True,\n",
       "   'quantity': -1},\n",
       "  {'name': 'Tea w Milk',\n",
       "   'id': 4,\n",
       "   'description': '',\n",
       "   'price': 0.9,\n",
       "   'image': '',\n",
       "   'available': True,\n",
       "   'quantity': -1},\n",
       "  {'name': \"Milo 'O'\",\n",
       "   'id': 5,\n",
       "   'description': '',\n",
       "   'price': 1,\n",
       "   'image': '',\n",
       "   'available': True,\n",
       "   'quantity': -1},\n",
       "  {'name': 'Milo w Milk',\n",
       "   'id': 6,\n",
       "   'description': '',\n",
       "   'price': 1.1,\n",
       "   'image': '',\n",
       "   'available': True,\n",
       "   'quantity': -1},\n",
       "  {'name': 'Iced Milo',\n",
       "   'id': 7,\n",
       "   'description': '',\n",
       "   'price': 1.7,\n",
       "   'image': '',\n",
       "   'available': True,\n",
       "   'quantity': -1}],\n",
       " 'about': {'recommended': 'Coffe, Tea',\n",
       "  'description': 'Coffee stall running since 1966',\n",
       "  'images': []},\n",
       " 'contact': {'poc': '', 'number': '', 'openingHours': ''},\n",
       " 'stallNo': '01-01'}"
      ]
     },
     "execution_count": 68,
     "metadata": {},
     "output_type": "execute_result"
    }
   ],
   "source": [
    "date = \"17052020\"\n",
    "stallId = \"THM_01-01\"\n",
    "_id = 0\n",
    "fetch_stall_for_date(db, stallId, date)"
   ]
  },
  {
   "cell_type": "code",
   "execution_count": 104,
   "metadata": {},
   "outputs": [],
   "source": [
    "import datetime\n",
    "\n",
    "def insert_user(db, aws_id, name, phone, email, payment_accounts=[]):\n",
    "    if fetch_user(db, aws_id):\n",
    "        raise Exception(\"User with this ID already exists!\")\n",
    "    user = {\n",
    "        \"awsId\": aws_id,\n",
    "        \"name\": name,\n",
    "        \"phone\": phone,\n",
    "        \"email\": email,\n",
    "        \"payment\": payment_accounts,\n",
    "        \"dateJoined\": datetime.datetime.now()\n",
    "    }\n",
    "    inserted_user = db.user.insert_one(user).inserted_id\n",
    "    return inserted_user\n",
    "    \n",
    "def fetch_user(db, aws_id, _id=0):\n",
    "    return db.user.find_one({\"awsId\": aws_id}, {\"_id\": _id})\n",
    "\n",
    "def check_payment_method(db, method, username):\n",
    "    return len([x for x in db.user.find({\"payment.method\": method, \"payment.username\": username}, {\"_id\":1}).limit(1)])==0\n",
    "\n",
    "def insert_user_payment(db, aws_id, method, username):\n",
    "    if len([x for x in db.user.find({\"awsId\": aws_id, \"payment.method\": method}, {\"_id\": 1}).limit(1)]) > 0:\n",
    "        raise Exception(\"Payment method {} already exists for user\".format(method))\n",
    "    return db.user.update_one({\"awsId\": aws_id}, {\"$push\": {\"payment\": {\n",
    "        \"method\": method,\n",
    "        \"username\": username\n",
    "    }}}).modified_count\n",
    "\n",
    "def delete_user_payment(db, aws_id, method, username):\n",
    "    if len([x for x in db.user.find({\"awsId\": aws_id, \"payment.method\": method, \"payment.username\": username}, {\"_id\": 1}).limit(1)])==0:\n",
    "        raise Exception(\"Payment method {} with this username does not exist for user\".format(method))\n",
    "    return db.user.update_one({\"awsId\": aws_id}, {\"$pull\": {\"payment\": {\"method\": method, \"username\": username}}}).modified_count\n",
    "\n",
    "def update_user_payment(db, aws_id, method, username):\n",
    "    if len([x for x in db.user.find({\"awsId\": aws_id, \"payment.method\": method}, {\"_id\": 1}).limit(1)])==0:\n",
    "        raise Exception(\"Payment method {} does not exist for user\".format(method))\n",
    "    return db.user.update_one({\"awsId\": aws_id, \"payment.method\": method}, {\"$set\": {\"payment.$.username\": username}}).modified_count"
   ]
  },
  {
   "cell_type": "code",
   "execution_count": 41,
   "metadata": {},
   "outputs": [
    {
     "data": {
      "text/plain": [
       "ObjectId('5ec2a3af303aa9d086371274')"
      ]
     },
     "execution_count": 41,
     "metadata": {},
     "output_type": "execute_result"
    }
   ],
   "source": [
    "insert_user(db, \"981b4aa4-9d51-44e9-806f-d4a520b468d5\", \"Gabriel Loye\", \"+91688706\", \"gabrielloye@hotmail.com\", payment_accounts=[])"
   ]
  },
  {
   "cell_type": "code",
   "execution_count": 47,
   "metadata": {},
   "outputs": [
    {
     "data": {
      "text/plain": [
       "[]"
      ]
     },
     "execution_count": 47,
     "metadata": {},
     "output_type": "execute_result"
    }
   ],
   "source": [
    "[x for x in db.user.find({\"awsId\": \"981b4aa4-9d51-44e9-806f-d4a520b468d5\", \"payment.method\": \"PayLah!\"}, {\"_id\": 1}).limit(1)]"
   ]
  },
  {
   "cell_type": "code",
   "execution_count": 90,
   "metadata": {},
   "outputs": [
    {
     "data": {
      "text/plain": [
       "1"
      ]
     },
     "execution_count": 90,
     "metadata": {},
     "output_type": "execute_result"
    }
   ],
   "source": [
    "x = insert_user_payment(db, \"981b4aa4-9d51-44e9-806f-d4a520b468d5\", \"PayLah!\", \"abc\")\n",
    "x"
   ]
  },
  {
   "cell_type": "code",
   "execution_count": 100,
   "metadata": {},
   "outputs": [
    {
     "data": {
      "text/plain": [
       "{'awsId': '981b4aa4-9d51-44e9-806f-d4a520b468d5',\n",
       " 'name': 'Gabriel Loye',\n",
       " 'phone': '+91688706',\n",
       " 'email': 'gabrielloye@hotmail.com',\n",
       " 'payment': [{'method': 'PayLah!', 'username': 'TEST'}],\n",
       " 'dateJoined': datetime.datetime(2020, 5, 18, 23, 3, 11, 685000)}"
      ]
     },
     "execution_count": 100,
     "metadata": {},
     "output_type": "execute_result"
    }
   ],
   "source": [
    "fetch_user(db, \"981b4aa4-9d51-44e9-806f-d4a520b468d5\")"
   ]
  },
  {
   "cell_type": "code",
   "execution_count": 99,
   "metadata": {},
   "outputs": [
    {
     "data": {
      "text/plain": [
       "1"
      ]
     },
     "execution_count": 99,
     "metadata": {},
     "output_type": "execute_result"
    }
   ],
   "source": [
    "aws_id = \"981b4aa4-9d51-44e9-806f-d4a520b468d5\"\n",
    "method = \"PayLah!\"\n",
    "update_user_payment(db, aws_id, method, \"TEST\")"
   ]
  },
  {
   "cell_type": "code",
   "execution_count": 103,
   "metadata": {},
   "outputs": [
    {
     "data": {
      "text/plain": [
       "True"
      ]
     },
     "execution_count": 103,
     "metadata": {},
     "output_type": "execute_result"
    }
   ],
   "source": [
    "check_payment_method(db, method, \"TEST\")"
   ]
  },
  {
   "cell_type": "code",
   "execution_count": 122,
   "metadata": {},
   "outputs": [],
   "source": [
    "def fetch_transactions_by_date_meal(db, date, meal):\n",
    "    transactions = []\n",
    "    for doc in db.transaction.find({\"date\": date, \"meal\": meal}):\n",
    "        doc['_id'] = str(doc['_id'])\n",
    "        transactions.append(doc)\n",
    "    return transactions\n",
    "\n",
    "def insert_transaction(db, awsId, date, cart, paymentMethod, paymentUsername, meal, paid=False):\n",
    "    if not fetch_user(db, aws_id):\n",
    "        raise Exception(\"User with this ID already exists!\")\n",
    "    transaction = {\n",
    "        \"dateTime\": datetime.datetime.now(),\n",
    "        \"date\": date,\n",
    "        \"awsId\": awsId,\n",
    "        \"cart\": cart,\n",
    "        \"paid\": paid,\n",
    "        \"paymentMethod\": paymentMethod,\n",
    "        \"paymentUsername\": paymentUsername,\n",
    "        \"totalPrice\": sum([food['price'] for food in cart]),\n",
    "        \"meal\": meal\n",
    "    }\n",
    "    inserted_id = db.transaction.insert_one(transaction).inserted_id\n",
    "    return inserted_id\n",
    "\n",
    "def update_transaction(db, _id, paid):\n",
    "    return db.transaction.update_one({\"_id\": ObjectId(_id)}, {\"$set\": {\"paid\": paid}}).modified_count\n",
    "\n",
    "def fetch_transactions_for_user(db, awsId):\n",
    "    transactions = []\n",
    "    for doc in db.transaction.find({\"awsId\": awsId}):\n",
    "        doc['_id'] = str(doc['_id'])\n",
    "        transactions.append(doc)\n",
    "    return transactions"
   ]
  },
  {
   "cell_type": "code",
   "execution_count": 118,
   "metadata": {},
   "outputs": [
    {
     "data": {
      "text/plain": [
       "1"
      ]
     },
     "execution_count": 118,
     "metadata": {},
     "output_type": "execute_result"
    }
   ],
   "source": [
    "update_transaction(db, \"5ec2b629303aa9d086371276\", True)"
   ]
  },
  {
   "cell_type": "code",
   "execution_count": 123,
   "metadata": {},
   "outputs": [
    {
     "data": {
      "text/plain": [
       "[{'_id': '5ec2b629303aa9d086371276',\n",
       "  'dateTime': datetime.datetime(2020, 5, 19, 0, 22, 1, 671000),\n",
       "  'date': '15052020',\n",
       "  'awsId': '981b4aa4-9d51-44e9-806f-d4a520b468d5',\n",
       "  'cart': [],\n",
       "  'paid': True,\n",
       "  'paymentMethod': 'PayLah!',\n",
       "  'paymentUsername': 'abc',\n",
       "  'totalPrice': 0,\n",
       "  'meal': 'lunch'}]"
      ]
     },
     "execution_count": 123,
     "metadata": {},
     "output_type": "execute_result"
    }
   ],
   "source": [
    "fetch_transactions_by_date_meal(db, \"15052020\", \"lunch\")"
   ]
  },
  {
   "cell_type": "code",
   "execution_count": 137,
   "metadata": {},
   "outputs": [
    {
     "data": {
      "text/plain": [
       "<pymongo.results.DeleteResult at 0x1fde89685c8>"
      ]
     },
     "execution_count": 137,
     "metadata": {},
     "output_type": "execute_result"
    }
   ],
   "source": [
    "db.user.delete_one({\"phone\": \"+91688706\"})"
   ]
  },
  {
   "cell_type": "code",
   "execution_count": 39,
   "metadata": {},
   "outputs": [
    {
     "data": {
      "text/plain": [
       "{'_id': ObjectId('5ec41d010aed8901da2f83ea'),\n",
       " 'name': 'Tanglin Halt Market',\n",
       " 'code': 'THM',\n",
       " 'address': '48A Tanglin Halt Rd, Singapore 148813',\n",
       " 'image': '',\n",
       " 'date': '20052020',\n",
       " 'stalls': [{'stallId': 'THM_01-01',\n",
       "   'name': 'Cafe 66',\n",
       "   'type': ['Drinks'],\n",
       "   'image': '',\n",
       "   'available': True,\n",
       "   'food': [{'available': True,\n",
       "     'description': 'Black coffee',\n",
       "     'id': 1,\n",
       "     'image': '',\n",
       "     'name': \"Coffee 'O'\",\n",
       "     'price': 0.7,\n",
       "     'margin': 0.2,\n",
       "     'quantity': -1},\n",
       "    {'available': True,\n",
       "     'description': '',\n",
       "     'id': 2,\n",
       "     'image': '',\n",
       "     'name': 'Coffee w Milk',\n",
       "     'price': 0.9,\n",
       "     'margin': 0.2,\n",
       "     'quantity': -1},\n",
       "    {'available': True,\n",
       "     'description': 'Black tea',\n",
       "     'id': 3,\n",
       "     'image': '',\n",
       "     'name': \"Tea 'O'\",\n",
       "     'price': 0.7,\n",
       "     'margin': 0.2,\n",
       "     'quantity': -1},\n",
       "    {'available': True,\n",
       "     'description': '',\n",
       "     'id': 4,\n",
       "     'image': '',\n",
       "     'name': 'Tea w Milk',\n",
       "     'price': 0.9,\n",
       "     'margin': 0.2,\n",
       "     'quantity': -1},\n",
       "    {'available': True,\n",
       "     'description': '',\n",
       "     'id': 5,\n",
       "     'image': '',\n",
       "     'name': \"Milo 'O'\",\n",
       "     'price': 1,\n",
       "     'margin': 0.2,\n",
       "     'quantity': -1},\n",
       "    {'available': True,\n",
       "     'description': '',\n",
       "     'id': 6,\n",
       "     'image': '',\n",
       "     'name': 'Milo w Milk',\n",
       "     'price': 1.1,\n",
       "     'margin': 0.2,\n",
       "     'quantity': -1},\n",
       "    {'available': True,\n",
       "     'description': '',\n",
       "     'id': 7,\n",
       "     'image': '',\n",
       "     'name': 'Iced Milo',\n",
       "     'price': 1.7,\n",
       "     'margin': 0.2,\n",
       "     'quantity': -1}]},\n",
       "  {'stallId': 'THM_01-02',\n",
       "   'name': 'Mei Wei Xiao Chi',\n",
       "   'type': ['Food', 'Dessert'],\n",
       "   'image': '',\n",
       "   'available': True,\n",
       "   'food': [{'available': True,\n",
       "     'description': '',\n",
       "     'id': 1,\n",
       "     'image': '',\n",
       "     'name': 'Fried Mee Hoon',\n",
       "     'price': 1.2,\n",
       "     'margin': 0.2,\n",
       "     'quantity': -1},\n",
       "    {'available': True,\n",
       "     'description': '',\n",
       "     'id': 2,\n",
       "     'image': '',\n",
       "     'name': 'Fried Bee Hoon',\n",
       "     'price': 1.2,\n",
       "     'margin': 0.2,\n",
       "     'quantity': -1},\n",
       "    {'available': True,\n",
       "     'description': '',\n",
       "     'id': 3,\n",
       "     'image': '',\n",
       "     'name': 'Fried Mee + Bee Hoon ($1.20)',\n",
       "     'price': 1.2,\n",
       "     'margin': 0.2,\n",
       "     'quantity': -1},\n",
       "    {'available': True,\n",
       "     'description': '',\n",
       "     'id': 4,\n",
       "     'image': '',\n",
       "     'name': 'Fried Mee + Bee Hoon ($1.50)',\n",
       "     'price': 1.5,\n",
       "     'margin': 0.2,\n",
       "     'quantity': -1},\n",
       "    {'available': True,\n",
       "     'description': '',\n",
       "     'id': 5,\n",
       "     'image': '',\n",
       "     'name': 'Peanut Porridge',\n",
       "     'price': 1.1,\n",
       "     'margin': 0.2,\n",
       "     'quantity': -1},\n",
       "    {'available': True,\n",
       "     'description': '',\n",
       "     'id': 6,\n",
       "     'image': '',\n",
       "     'name': 'Red Bean Soup',\n",
       "     'price': 1.1,\n",
       "     'margin': 0.2,\n",
       "     'quantity': -1},\n",
       "    {'available': True,\n",
       "     'description': '',\n",
       "     'id': 7,\n",
       "     'image': '',\n",
       "     'name': 'Green Bean Soup',\n",
       "     'price': 1.1,\n",
       "     'margin': 0.2,\n",
       "     'quantity': -1},\n",
       "    {'available': True,\n",
       "     'description': '',\n",
       "     'id': 8,\n",
       "     'image': '',\n",
       "     'name': 'Bubur Hitam',\n",
       "     'price': 1.1,\n",
       "     'margin': 0.2,\n",
       "     'quantity': -1},\n",
       "    {'available': True,\n",
       "     'description': '',\n",
       "     'id': 9,\n",
       "     'image': '',\n",
       "     'name': 'Chicken Wing',\n",
       "     'price': 1.1,\n",
       "     'margin': 0.2,\n",
       "     'quantity': -1}]},\n",
       "  {'stallId': 'THM_01-15',\n",
       "   'name': 'Lian Sheng Food Stall',\n",
       "   'type': ['Food'],\n",
       "   'image': '',\n",
       "   'available': True,\n",
       "   'food': [{'id': 1,\n",
       "     'name': 'Sweet and Sour Chicken Rice',\n",
       "     'price': 5,\n",
       "     'margin': 0,\n",
       "     'description': '',\n",
       "     'image': '',\n",
       "     'available': True,\n",
       "     'quantity': -1},\n",
       "    {'id': 2,\n",
       "     'name': 'Seafood Fried Rice',\n",
       "     'price': 4,\n",
       "     'margin': 0,\n",
       "     'description': '',\n",
       "     'image': '',\n",
       "     'available': True,\n",
       "     'quantity': -1},\n",
       "    {'id': 3,\n",
       "     'name': 'Salted Fish Fried Rice',\n",
       "     'price': 4,\n",
       "     'margin': 0,\n",
       "     'description': '',\n",
       "     'image': '',\n",
       "     'available': True,\n",
       "     'quantity': -1},\n",
       "    {'id': 4,\n",
       "     'name': 'Stir-fried Ginger Onion Pork Rice',\n",
       "     'price': 5,\n",
       "     'margin': 0,\n",
       "     'description': '',\n",
       "     'image': '',\n",
       "     'available': True,\n",
       "     'quantity': -1}]},\n",
       "  {'stallId': 'THM_01-17',\n",
       "   'name': 'Ah Luck Soya Beancurd Drinks',\n",
       "   'type': ['Dessert', 'Drinks'],\n",
       "   'image': 'https://i.imgur.com/wOxma2z.jpg',\n",
       "   'available': True,\n",
       "   'food': [{'available': True,\n",
       "     'description': '',\n",
       "     'id': 1,\n",
       "     'image': '',\n",
       "     'margin': 0.2,\n",
       "     'name': 'Soya Beancurd w Gingko Nut',\n",
       "     'price': 1.5,\n",
       "     'quantity': -1},\n",
       "    {'available': True,\n",
       "     'description': '',\n",
       "     'id': 2,\n",
       "     'image': '',\n",
       "     'margin': 0.2,\n",
       "     'name': 'Soya Beancurd w Longan',\n",
       "     'price': 1.5,\n",
       "     'quantity': -1},\n",
       "    {'available': True,\n",
       "     'description': '',\n",
       "     'id': 3,\n",
       "     'image': '',\n",
       "     'margin': 0.2,\n",
       "     'name': 'Soya Beancurd w Attap Seed',\n",
       "     'price': 1.5,\n",
       "     'quantity': -1},\n",
       "    {'available': True,\n",
       "     'description': '',\n",
       "     'id': 4,\n",
       "     'image': '',\n",
       "     'margin': 0.2,\n",
       "     'name': 'Soya Beancurd w Sea Coconut',\n",
       "     'price': 1.5,\n",
       "     'quantity': -1},\n",
       "    {'available': True,\n",
       "     'description': '',\n",
       "     'id': 5,\n",
       "     'image': '',\n",
       "     'margin': 0.2,\n",
       "     'name': 'Grass Jelly w Sea Coconut',\n",
       "     'price': 1.5,\n",
       "     'quantity': -1},\n",
       "    {'available': True,\n",
       "     'description': '',\n",
       "     'id': 6,\n",
       "     'image': '',\n",
       "     'margin': 0.1,\n",
       "     'name': '(Cold) Soya Bean Drink',\n",
       "     'price': 1,\n",
       "     'quantity': -1},\n",
       "    {'available': True,\n",
       "     'description': '',\n",
       "     'id': 7,\n",
       "     'image': '',\n",
       "     'margin': 0.1,\n",
       "     'name': '(Warm) Soya Bean Drink',\n",
       "     'price': 1,\n",
       "     'quantity': -1},\n",
       "    {'available': True,\n",
       "     'description': '',\n",
       "     'id': 8,\n",
       "     'image': '',\n",
       "     'margin': 0.1,\n",
       "     'name': '(Cold) Grass Jelly Drink',\n",
       "     'price': 1,\n",
       "     'quantity': -1},\n",
       "    {'available': True,\n",
       "     'description': '',\n",
       "     'id': 9,\n",
       "     'image': 'https://i.imgur.com/mIX2E0h.jpg',\n",
       "     'margin': 0.2,\n",
       "     'name': 'Soya Bean Drink w Pearls',\n",
       "     'price': 1.8,\n",
       "     'quantity': -1},\n",
       "    {'available': True,\n",
       "     'description': '',\n",
       "     'id': 10,\n",
       "     'image': '',\n",
       "     'margin': 0.1,\n",
       "     'name': '(Warm) Soya Beancurd',\n",
       "     'price': 1,\n",
       "     'quantity': -1},\n",
       "    {'available': True,\n",
       "     'description': '',\n",
       "     'id': 11,\n",
       "     'image': '',\n",
       "     'margin': 0.1,\n",
       "     'name': '(Cold) Soya Beancurd',\n",
       "     'price': 1,\n",
       "     'quantity': -1}]},\n",
       "  {'stallId': 'THM_01-19',\n",
       "   'name': '老菜市肉挫面 (Lao Cai Shi Rou Cuo Mian)',\n",
       "   'type': ['Food'],\n",
       "   'image': 'https://imgur.com/a/LlykpZY',\n",
       "   'available': True,\n",
       "   'food': [{'available': True,\n",
       "     'description': '',\n",
       "     'id': 1,\n",
       "     'image': '',\n",
       "     'name': 'Signature Teochew Noodle (Dry)',\n",
       "     'price': 4,\n",
       "     'quantity': -1},\n",
       "    {'available': True,\n",
       "     'description': '',\n",
       "     'id': 2,\n",
       "     'image': '',\n",
       "     'name': 'Signature Teochew Noodle (Soup)',\n",
       "     'price': 4,\n",
       "     'quantity': -1}]},\n",
       "  {'stallId': 'THM_01-20',\n",
       "   'name': 'Wei Yi Laksa & Prawn Noodle',\n",
       "   'type': ['Food'],\n",
       "   'image': '',\n",
       "   'available': True,\n",
       "   'food': [{'id': 1,\n",
       "     'name': 'Laksa w Prawn & Taupok',\n",
       "     'price': 4,\n",
       "     'margin': 0.5,\n",
       "     'description': '',\n",
       "     'image': '',\n",
       "     'available': True,\n",
       "     'quantity': -1},\n",
       "    {'id': 2,\n",
       "     'name': 'Laksa w Chicken & Taupok',\n",
       "     'price': 4,\n",
       "     'margin': 0.5,\n",
       "     'description': '',\n",
       "     'image': '',\n",
       "     'available': True,\n",
       "     'quantity': -1}]},\n",
       "  {'stallId': 'THM_01-21',\n",
       "   'name': 'Da Xi Hainanese Chicken Rice Stall',\n",
       "   'type': ['Food'],\n",
       "   'image': 'https://imgur.com/a/e1w0GuC',\n",
       "   'available': True,\n",
       "   'food': [{'available': True,\n",
       "     'description': '',\n",
       "     'id': 1,\n",
       "     'image': '',\n",
       "     'margin': 0.5,\n",
       "     'name': 'Roasted Chicken Rice',\n",
       "     'price': 3,\n",
       "     'quantity': -1},\n",
       "    {'available': True,\n",
       "     'description': '',\n",
       "     'id': 2,\n",
       "     'image': '',\n",
       "     'margin': 0.5,\n",
       "     'name': 'Steamed Chicken Rice',\n",
       "     'price': 3,\n",
       "     'quantity': -1},\n",
       "    {'available': True,\n",
       "     'description': '',\n",
       "     'id': 3,\n",
       "     'image': '',\n",
       "     'margin': 0.5,\n",
       "     'name': 'Roasted Pork Rice',\n",
       "     'price': 3,\n",
       "     'quantity': -1},\n",
       "    {'available': True,\n",
       "     'description': '',\n",
       "     'id': 4,\n",
       "     'image': '',\n",
       "     'margin': 0.5,\n",
       "     'name': '(Mix) Steamed + Roasted Chicken Rice',\n",
       "     'price': 4,\n",
       "     'quantity': -1}]},\n",
       "  {'stallId': 'THM_01-25',\n",
       "   'name': 'Five Foot Way Drinks Stall',\n",
       "   'type': ['Drinks'],\n",
       "   'image': '',\n",
       "   'available': True,\n",
       "   'food': [{'available': True,\n",
       "     'description': '',\n",
       "     'id': 1,\n",
       "     'image': '',\n",
       "     'margin': 0.2,\n",
       "     'name': '(Hot) Kopi Siew Dai - less sweet',\n",
       "     'price': 0.9,\n",
       "     'quantity': -1},\n",
       "    {'available': True,\n",
       "     'description': '',\n",
       "     'id': 2,\n",
       "     'image': '',\n",
       "     'margin': 0.2,\n",
       "     'name': '(Hot) Teh Siew Dai - less sweet',\n",
       "     'price': 0.9,\n",
       "     'quantity': -1},\n",
       "    {'available': True,\n",
       "     'description': '',\n",
       "     'id': 3,\n",
       "     'image': '',\n",
       "     'margin': 0.2,\n",
       "     'name': 'Kopi Peng Siew Dai - less sweet',\n",
       "     'price': 1,\n",
       "     'quantity': -1},\n",
       "    {'available': True,\n",
       "     'description': '',\n",
       "     'id': 4,\n",
       "     'image': '',\n",
       "     'margin': 0.2,\n",
       "     'name': 'Teh Peng Siew Dai - less sweet',\n",
       "     'price': 1,\n",
       "     'quantity': -1},\n",
       "    {'id': 5,\n",
       "     'name': \"(Hot) Kopi 'O' Siew Dai - less sweet\",\n",
       "     'price': 0.8,\n",
       "     'margin': 0.2,\n",
       "     'description': '',\n",
       "     'image': '',\n",
       "     'available': True,\n",
       "     'quantity': -1},\n",
       "    {'id': 6,\n",
       "     'name': \"(Hot) Teh 'O' Siew Dai - less sweet\",\n",
       "     'price': 0.8,\n",
       "     'margin': 0.2,\n",
       "     'description': '',\n",
       "     'image': '',\n",
       "     'available': True,\n",
       "     'quantity': -1}]}],\n",
       " 'orderAvailable': True,\n",
       " 'meal': 'lunch'}"
      ]
     },
     "execution_count": 39,
     "metadata": {},
     "output_type": "execute_result"
    }
   ],
   "source": [
    "db.dailyListing.find_one({\"date\": \"20052020\"})"
   ]
  },
  {
   "cell_type": "code",
   "execution_count": 34,
   "metadata": {},
   "outputs": [
    {
     "name": "stdout",
     "output_type": "stream",
     "text": [
      "{'_id': ObjectId('5ebfabac7ae65def16a8c644'), 'name': 'Mei Wei Xiao Chi', 'type': ['Food', 'Dessert'], 'location': 'THM', 'stallNo': '01-02', 'stallId': 'THM_01-02', 'food': [{'available': True, 'description': '', 'id': 1, 'image': '', 'name': 'Fried Mee Hoon', 'price': 1.2, 'margin': 0.2}, {'available': True, 'description': '', 'id': 2, 'image': '', 'name': 'Fried Bee Hoon', 'price': 1.2, 'margin': 0.2}, {'available': True, 'description': '', 'id': 3, 'image': '', 'name': 'Fried Mee + Bee Hoon ($1.20)', 'price': 1.2, 'margin': 0.2}, {'available': True, 'description': '', 'id': 4, 'image': '', 'name': 'Fried Mee + Bee Hoon ($1.50)', 'price': 1.5, 'margin': 0.2}, {'available': True, 'description': '', 'id': 5, 'image': '', 'name': 'Peanut Porridge', 'price': 1.1, 'margin': 0.2}, {'available': True, 'description': '', 'id': 6, 'image': '', 'name': 'Red Bean Soup', 'price': 1.1, 'margin': 0.2}, {'available': True, 'description': '', 'id': 7, 'image': '', 'name': 'Green Bean Soup', 'price': 1.1, 'margin': 0.2}, {'available': True, 'description': '', 'id': 8, 'image': '', 'name': 'Bubur Hitam', 'price': 1.1, 'margin': 0.2}, {'available': True, 'description': '', 'id': 9, 'image': '', 'name': 'Chicken Wing', 'price': 1.1, 'margin': 0.2}], 'about': {'description': '', 'images': [], 'recommended': 'Bee Hoon, Dessert', 'urls': []}, 'contact': {'number': '', 'openingHours': '1800-2300', 'poc': 'Mrs Tan'}, 'image': ''}\n",
      "{'_id': ObjectId('5ec187702cbda5bc4ebfd54b'), 'name': 'Da Xi Hainanese Chicken Rice Stall', 'type': ['Food'], 'location': 'THM', 'image': 'https://imgur.com/a/e1w0GuC', 'stallNo': '01-21', 'stallId': 'THM_01-21', 'food': [{'available': True, 'description': '', 'id': 1, 'image': '', 'margin': 0.5, 'name': 'Roasted Chicken Rice', 'price': 3}, {'available': True, 'description': '', 'id': 2, 'image': '', 'margin': 0.5, 'name': 'Steamed Chicken Rice', 'price': 3}, {'available': True, 'description': '', 'id': 3, 'image': '', 'margin': 0.5, 'name': 'Roasted Pork Rice', 'price': 3}, {'available': True, 'description': '', 'id': 4, 'image': '', 'margin': 0.5, 'name': '(Mix) Steamed + Roasted Chicken Rice', 'price': 4}], 'about': {'description': '', 'images': [], 'recommended': '', 'urls': []}, 'contact': {}}\n",
      "{'_id': ObjectId('5ec27af7303aa9d086371271'), 'name': 'Cafe 66', 'type': ['Drinks'], 'location': 'THM', 'image': '', 'stallNo': '01-01', 'stallId': 'THM_01-01', 'food': [{'available': True, 'description': 'Black coffee', 'id': 1, 'image': '', 'name': \"Coffee 'O'\", 'price': 0.7, 'margin': 0.2}, {'available': True, 'description': '', 'id': 2, 'image': '', 'name': 'Coffee w Milk', 'price': 0.9, 'margin': 0.2}, {'available': True, 'description': 'Black tea', 'id': 3, 'image': '', 'name': \"Tea 'O'\", 'price': 0.7, 'margin': 0.2}, {'available': True, 'description': '', 'id': 4, 'image': '', 'name': 'Tea w Milk', 'price': 0.9, 'margin': 0.2}, {'available': True, 'description': '', 'id': 5, 'image': '', 'name': \"Milo 'O'\", 'price': 1, 'margin': 0.2}, {'available': True, 'description': '', 'id': 6, 'image': '', 'name': 'Milo w Milk', 'price': 1.1, 'margin': 0.2}, {'available': True, 'description': '', 'id': 7, 'image': '', 'name': 'Iced Milo', 'price': 1.7, 'margin': 0.2}], 'about': {'description': 'Coffee stall running since 1966', 'images': [], 'recommended': 'Coffe, Tea', 'urls': []}, 'contact': {'number': '', 'openingHours': '', 'poc': ''}}\n",
      "{'_id': ObjectId('5ec3fc9dac2b5bc75b943466'), 'name': '老菜市肉挫面 (Lao Cai Shi Rou Cuo Mian)', 'type': ['Food'], 'location': 'THM', 'image': 'https://imgur.com/a/LlykpZY', 'stallNo': '01-19', 'stallId': 'THM_01-19', 'food': [{'available': True, 'description': '', 'id': 1, 'image': '', 'name': 'Signature Teochew Noodle (Dry)', 'price': 4}, {'available': True, 'description': '', 'id': 2, 'image': '', 'name': 'Signature Teochew Noodle (Soup)', 'price': 4}], 'about': {'description': '', 'images': [], 'recommended': '', 'urls': []}, 'contact': {}}\n",
      "{'_id': ObjectId('5ec40d1569b638f94f86504f'), 'name': 'Five Foot Way Drinks Stall', 'type': ['Drinks'], 'location': 'THM', 'image': '', 'stallNo': '01-25', 'stallId': 'THM_01-25', 'food': [{'available': True, 'description': '', 'id': 1, 'image': '', 'margin': 0.2, 'name': '(Hot) Kopi Siew Dai - less sweet', 'price': 0.9}, {'available': True, 'description': '', 'id': 2, 'image': '', 'margin': 0.2, 'name': '(Hot) Teh Siew Dai - less sweet', 'price': 0.9}, {'available': True, 'description': '', 'id': 3, 'image': '', 'margin': 0.2, 'name': 'Kopi Peng Siew Dai - less sweet', 'price': 1}, {'available': True, 'description': '', 'id': 4, 'image': '', 'margin': 0.2, 'name': 'Teh Peng Siew Dai - less sweet', 'price': 1}, {'id': 5, 'name': \"(Hot) Kopi 'O' Siew Dai - less sweet\", 'price': 0.8, 'margin': 0.2, 'description': '', 'image': '', 'available': True}, {'id': 6, 'name': \"(Hot) Teh 'O' Siew Dai - less sweet\", 'price': 0.8, 'margin': 0.2, 'description': '', 'image': '', 'available': True}], 'about': {'description': '', 'images': [], 'recommended': '', 'urls': []}, 'contact': {}}\n",
      "{'_id': ObjectId('5ec413b369b638f94f865051'), 'name': 'Wei Yi Laksa & Prawn Noodle', 'type': ['Food'], 'location': 'THM', 'image': '', 'stallNo': '01-20', 'stallId': 'THM_01-20', 'food': [{'id': 1, 'name': 'Laksa w Prawn & Taupok', 'price': 4, 'margin': 0.5, 'description': '', 'image': '', 'available': True}, {'id': 2, 'name': 'Laksa w Chicken & Taupok', 'price': 4, 'margin': 0.5, 'description': '', 'image': '', 'available': True}], 'about': {'recommended': 'Laksa', 'description': '', 'images': [], 'urls': []}, 'contact': {}}\n",
      "{'_id': ObjectId('5ec4141669b638f94f865052'), 'name': 'Lian Sheng Food Stall', 'type': ['Food'], 'location': 'THM', 'image': '', 'stallNo': '01-15', 'stallId': 'THM_01-15', 'food': [{'id': 1, 'name': 'Sweet and Sour Chicken Rice', 'price': 5, 'margin': 0, 'description': '', 'image': '', 'available': True}, {'id': 2, 'name': 'Seafood Fried Rice', 'price': 4, 'margin': 0, 'description': '', 'image': '', 'available': True}, {'id': 3, 'name': 'Salted Fish Fried Rice', 'price': 4, 'margin': 0, 'description': '', 'image': '', 'available': True}, {'id': 4, 'name': 'Stir-fried Ginger Onion Pork Rice', 'price': 5, 'margin': 0, 'description': '', 'image': '', 'available': True}], 'about': {'recommended': '', 'description': '', 'images': [], 'urls': []}, 'contact': {}}\n",
      "{'_id': ObjectId('5ec417cb69b638f94f865055'), 'name': 'Ah Luck Soya Beancurd Drinks', 'type': ['Dessert', 'Drinks'], 'location': 'THM', 'image': 'https://i.imgur.com/wOxma2z.jpg', 'stallNo': '01-17', 'stallId': 'THM_01-17', 'food': [{'available': True, 'description': '', 'id': 1, 'image': '', 'margin': 0.2, 'name': 'Soya Beancurd w Gingko Nut', 'price': 1.5}, {'available': True, 'description': '', 'id': 2, 'image': '', 'margin': 0.2, 'name': 'Soya Beancurd w Longan', 'price': 1.5}, {'available': True, 'description': '', 'id': 3, 'image': '', 'margin': 0.2, 'name': 'Soya Beancurd w Attap Seed', 'price': 1.5}, {'available': True, 'description': '', 'id': 4, 'image': '', 'margin': 0.2, 'name': 'Soya Beancurd w Sea Coconut', 'price': 1.5}, {'available': True, 'description': '', 'id': 5, 'image': '', 'margin': 0.2, 'name': 'Grass Jelly w Sea Coconut', 'price': 1.5}, {'available': True, 'description': '', 'id': 6, 'image': '', 'margin': 0.1, 'name': '(Cold) Soya Bean Drink', 'price': 1}, {'available': True, 'description': '', 'id': 7, 'image': '', 'margin': 0.1, 'name': '(Warm) Soya Bean Drink', 'price': 1}, {'available': True, 'description': '', 'id': 8, 'image': '', 'margin': 0.1, 'name': '(Cold) Grass Jelly Drink', 'price': 1}, {'available': True, 'description': '', 'id': 9, 'image': 'https://i.imgur.com/mIX2E0h.jpg', 'margin': 0.2, 'name': 'Soya Bean Drink w Pearls', 'price': 1.8}, {'available': True, 'description': '', 'id': 10, 'image': '', 'margin': 0.1, 'name': '(Warm) Soya Beancurd', 'price': 1}, {'available': True, 'description': '', 'id': 11, 'image': '', 'margin': 0.1, 'name': '(Cold) Soya Beancurd', 'price': 1}], 'about': {'description': '', 'images': [], 'recommended': 'Laksa', 'urls': []}, 'contact': {}}\n"
     ]
    }
   ],
   "source": [
    "for doc in db.stall.find({}):\n",
    "    print(doc)"
   ]
  },
  {
   "cell_type": "code",
   "execution_count": 26,
   "metadata": {},
   "outputs": [
    {
     "data": {
      "text/plain": [
       "<pymongo.results.DeleteResult at 0x254b2e61c08>"
      ]
     },
     "execution_count": 26,
     "metadata": {},
     "output_type": "execute_result"
    }
   ],
   "source": [
    "db.stall.delete_one({\"name\": \"test\"})"
   ]
  },
  {
   "cell_type": "code",
   "execution_count": null,
   "metadata": {},
   "outputs": [],
   "source": []
  }
 ],
 "metadata": {
  "kernelspec": {
   "display_name": "Python 3",
   "language": "python",
   "name": "python3"
  },
  "language_info": {
   "codemirror_mode": {
    "name": "ipython",
    "version": 3
   },
   "file_extension": ".py",
   "mimetype": "text/x-python",
   "name": "python",
   "nbconvert_exporter": "python",
   "pygments_lexer": "ipython3",
   "version": "3.7.7"
  }
 },
 "nbformat": 4,
 "nbformat_minor": 4
}
