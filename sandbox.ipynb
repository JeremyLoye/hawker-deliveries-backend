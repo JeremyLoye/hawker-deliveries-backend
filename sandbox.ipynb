{
 "cells": [
  {
   "cell_type": "code",
   "execution_count": 1,
   "metadata": {},
   "outputs": [],
   "source": [
    "import configparser\n",
    "import pymongo\n",
    "\n",
    "config = configparser.ConfigParser()\n",
    "config.read(\"credentials.ini\")\n",
    "\n",
    "client = pymongo.MongoClient(\"mongodb+srv://{}:{}@cluster0-fbceu.mongodb.net/test?retryWrites=true&w=majority\".format(config['MONGO']['user'], config['MONGO']['password']))\n",
    "db = client.hawkerv1"
   ]
  },
  {
   "cell_type": "code",
   "execution_count": 59,
   "metadata": {},
   "outputs": [],
   "source": [
    "def insert_hawker(db, name, code, address, image):\n",
    "    return db['hawker'].insert_one({\n",
    "        \"name\": name,\n",
    "        \"code\": code,\n",
    "        \"address\": address,\n",
    "        \"image\": image\n",
    "    })\n",
    "\n",
    "def update_hawker(db, code, mapping):\n",
    "    return db.hawker.update_one({\"code\": \"THM\"}, {\"$set\": mapping}).modified_count"
   ]
  },
  {
   "cell_type": "code",
   "execution_count": 60,
   "metadata": {},
   "outputs": [],
   "source": [
    "name = \"Tanglin Halt Market\"\n",
    "code = \"THM\"\n",
    "address = \"48A Tanglin Halt Rd, Singapore 148813\"\n",
    "image = \"\"\n",
    "inserted_id = insert_hawker(db, name, code, address, image).inserted_id\n",
    "\n",
    "modified = update_hawker(db, \"THM\", {\"address\": \"48A Tanglin Halt Rd, Singapore 148813\"})"
   ]
  },
  {
   "cell_type": "code",
   "execution_count": 70,
   "metadata": {},
   "outputs": [],
   "source": [
    "def fetch_all_hawkers(db, _id=0):\n",
    "    hawkers = []\n",
    "    for doc in db.hawker.find({}, {\"_id\": _id}):\n",
    "        hawkers.append(doc)\n",
    "    return hawkers\n",
    "\n",
    "def fetch_hawker_by_code(db, code, _id=0):\n",
    "    return db.hawker.find_one({\"code\": code}, {\"_id\": _id})"
   ]
  },
  {
   "cell_type": "code",
   "execution_count": 62,
   "metadata": {},
   "outputs": [
    {
     "data": {
      "text/plain": [
       "{'name': 'Tanglin Halt Market',\n",
       " 'code': 'THM',\n",
       " 'address': '48A Tanglin Halt Rd, Singapore 148813',\n",
       " 'image': ''}"
      ]
     },
     "execution_count": 62,
     "metadata": {},
     "output_type": "execute_result"
    }
   ],
   "source": [
    "fetch_hawker_by_code(db, \"THM\")"
   ]
  },
  {
   "cell_type": "code",
   "execution_count": 69,
   "metadata": {},
   "outputs": [],
   "source": [
    "def fetch_stall_by_id(db, stallId, _id=0):\n",
    "    return db.stall.find_one({\"stallId\": stallId}, {\"_id\": _id})\n",
    "\n",
    "def fetch_stalls_by_location(db, location, _id=0):\n",
    "    return [doc for doc in db.stall.find({\"location\": location}, {\"_id\": _id})]\n",
    "\n",
    "def insert_stall(db, name, stall_type, location, stallNo, food, about, contact):\n",
    "    stallId = \"{}_{}\".format(location, stallNo)\n",
    "    if fetch_stall_by_id(db, stallId):\n",
    "        raise Exception(\"Store already exists!\")\n",
    "    stall = {\n",
    "        \"name\": name,\n",
    "        \"type\": stall_type,\n",
    "        \"location\": location,\n",
    "        \"stallNo\": stallNo,\n",
    "        \"stallId\": stallId,\n",
    "        \"food\": food,\n",
    "        \"about\": about,\n",
    "        \"contact\": contact\n",
    "    }\n",
    "    inserted_stall = db['stall'].insert_one(stall).inserted_id\n",
    "    return inserted_stall, modified_hawker"
   ]
  },
  {
   "cell_type": "code",
   "execution_count": 67,
   "metadata": {},
   "outputs": [],
   "source": [
    "name = \"Cafe 66\"\n",
    "stall_type = \"Drinks\"\n",
    "location = \"THM\"\n",
    "stallNo = \"01-01\"\n",
    "stallId = \"THM_01-01\"\n",
    "food = [\n",
    "    {\n",
    "        \"name\": \"Coffee 'O'\",\n",
    "        \"id\": 1,\n",
    "        \"description\": \"Black coffee\",\n",
    "        \"price\": 0.7,\n",
    "        \"image\": \"\",\n",
    "        \"available\": True\n",
    "    },\n",
    "    {\n",
    "        \"name\": \"Coffee w Milk\",\n",
    "        \"id\": 2,\n",
    "        \"description\": \"\",\n",
    "        \"price\": 0.9,\n",
    "        \"image\": \"\",\n",
    "        \"available\": True\n",
    "    }\n",
    "]\n",
    "about = {\n",
    "    \"recommended\": \"Coffe, Tea\",\n",
    "    \"description\": \"Coffee stall running since 1966\",\n",
    "    \"images\": []\n",
    "}\n",
    "contact = {\n",
    "    \"poc\": \"\",\n",
    "    \"number\": \"\",\n",
    "    \"openingHours\": \"\"\n",
    "}\n",
    "stall_id, modified = insert_stall(db, name, stall_type, location, stallNo, food, about, contact)"
   ]
  },
  {
   "cell_type": "code",
   "execution_count": 71,
   "metadata": {},
   "outputs": [
    {
     "data": {
      "text/plain": [
       "[{'name': 'Cafe 66',\n",
       "  'type': 'Drinks',\n",
       "  'location': 'THM',\n",
       "  'stallNo': '01-01',\n",
       "  'stallId': 'THM_01-01',\n",
       "  'food': [{'name': \"Coffee 'O'\",\n",
       "    'id': 1,\n",
       "    'description': 'Black coffee',\n",
       "    'price': 0.7,\n",
       "    'image': '',\n",
       "    'available': True},\n",
       "   {'name': 'Coffee w Milk',\n",
       "    'id': 2,\n",
       "    'description': '',\n",
       "    'price': 0.9,\n",
       "    'image': '',\n",
       "    'available': True}],\n",
       "  'about': {'recommended': 'Coffe, Tea',\n",
       "   'description': 'Coffee stall running since 1966',\n",
       "   'images': []},\n",
       "  'contact': {'poc': '', 'number': '', 'openingHours': ''}}]"
      ]
     },
     "execution_count": 71,
     "metadata": {},
     "output_type": "execute_result"
    }
   ],
   "source": [
    "fetch_stall_by_id(db, \"THM_01-01\")\n",
    "fetch_stalls_by_location(db, \"THM\")"
   ]
  },
  {
   "cell_type": "code",
   "execution_count": 115,
   "metadata": {},
   "outputs": [
    {
     "data": {
      "text/plain": [
       "[{'name': 'Tanglin Halt Market',\n",
       "  'code': 'THM',\n",
       "  'address': '48A Tanglin Halt Rd, Singapore 148813',\n",
       "  'image': '',\n",
       "  'date': '16052020',\n",
       "  'stalls': [{'stallId': 'THM_01-01',\n",
       "    'name': 'Cafe 66',\n",
       "    'food': [{'name': \"Coffee 'O'\",\n",
       "      'id': 1,\n",
       "      'description': 'Black coffee',\n",
       "      'price': 0.7,\n",
       "      'image': '',\n",
       "      'available': True,\n",
       "      'quantity': -1},\n",
       "     {'name': 'Coffee w Milk',\n",
       "      'id': 2,\n",
       "      'description': '',\n",
       "      'price': 0.9,\n",
       "      'image': '',\n",
       "      'available': True,\n",
       "      'quantity': -1}]}],\n",
       "  'orderAvailable': True,\n",
       "  'meal': 'lunch'}]"
      ]
     },
     "execution_count": 115,
     "metadata": {},
     "output_type": "execute_result"
    }
   ],
   "source": [
    "import datetime\n",
    "\n",
    "today = datetime.datetime.now().strftime(\"%d%m%Y\")\n",
    "[doc for doc in db.dailyListing.find({\"date\": {\"$gte\": today}}, {\"_id\": 0})]"
   ]
  },
  {
   "cell_type": "code",
   "execution_count": 144,
   "metadata": {},
   "outputs": [],
   "source": [
    "def fetch_all_listings(db, _id=0):\n",
    "    today = datetime.datetime.now().strftime(\"%d%m%Y\")\n",
    "    return [doc for doc in db.dailyListing.find({\"date\": {\"$gte\": today}}, {\"_id\": _id})]\n",
    "\n",
    "def fetch_listing(db, date, _id=0):\n",
    "    return db.dailyListing.find_one({\"date\": date}, {\"_id\": _id})\n",
    "\n",
    "def insert_listing(db, date, code, meal, orderAvailable=True):\n",
    "    if fetch_listing(db, date):\n",
    "        raise Exception(\"Listing for this date already exists, use update instead!\")\n",
    "    listing = fetch_hawker_by_code(db, code)\n",
    "    listing['date'] = date\n",
    "    listing['stalls'] = []\n",
    "    for stall in fetch_stalls_by_location(db, code):\n",
    "        listing['stalls'].append({\n",
    "            \"stallId\": stall['stallId'],\n",
    "            \"name\": stall['name'],\n",
    "            \"available\": True,\n",
    "            \"food\": [{**food, 'quantity': -1} for food in stall['food'] if food['available']]\n",
    "        })\n",
    "    listing['orderAvailable'] = orderAvailable\n",
    "    listing['meal'] = meal\n",
    "    return db.dailyListing.insert_one(listing).inserted_id\n",
    "\n",
    "def del_listing(db, date):\n",
    "    return db.dailyListing.delete_one({\"date\": date}).deleted_count\n",
    "\n",
    "def update_stall_availability(db, date, stallId, availability):\n",
    "    listing = fetch_listing(db, date)\n",
    "    if not listing:\n",
    "        raise Exception(\"Listing unavailable for this date\")\n",
    "    stalls = listing['stalls']\n",
    "    for stall in stalls:\n",
    "        if stall['stallId'] == stallId:\n",
    "            stall['available'] = availability\n",
    "            updated = db.dailyListing.update_one({\"date\": date}, {\"$set\": {\"stalls\": stalls}}).modified_count\n",
    "            return updated\n",
    "    raise Exception(\"No such stall in this listing\")\n",
    "    \n",
    "def update_food_quantity(db, date, stallId, foodId, quantity):\n",
    "    listing = fetch_listing(db, date)\n",
    "    if not listing:\n",
    "        raise Exception(\"Listing unavailable for this date\")\n",
    "    stalls = listing['stalls']\n",
    "    for stall in stalls:\n",
    "        if stall['stallId'] == stallId:\n",
    "            for food in stall['food']:\n",
    "                if food['id'] == foodId:\n",
    "                    food['quantity'] = quantity\n",
    "                    updated = db.dailyListing.update_one({\"date\": date}, {\"$set\": {\"stalls\": stalls}}).modified_count\n",
    "                    return updated\n",
    "    raise Exception(\"No such stall or food in this listing\")"
   ]
  },
  {
   "cell_type": "code",
   "execution_count": 145,
   "metadata": {},
   "outputs": [
    {
     "data": {
      "text/plain": [
       "1"
      ]
     },
     "execution_count": 145,
     "metadata": {},
     "output_type": "execute_result"
    }
   ],
   "source": [
    "update_stall_availability(db, \"16052020\", \"THM_01-01\", True)"
   ]
  },
  {
   "cell_type": "code",
   "execution_count": 151,
   "metadata": {},
   "outputs": [
    {
     "data": {
      "text/plain": [
       "int"
      ]
     },
     "execution_count": 151,
     "metadata": {},
     "output_type": "execute_result"
    }
   ],
   "source": [
    "type(1) "
   ]
  },
  {
   "cell_type": "code",
   "execution_count": 148,
   "metadata": {},
   "outputs": [
    {
     "data": {
      "text/plain": [
       "1"
      ]
     },
     "execution_count": 148,
     "metadata": {},
     "output_type": "execute_result"
    }
   ],
   "source": [
    "update_food_quantity(db, \"16052020\", \"THM_01-01\", 1, -1)"
   ]
  },
  {
   "cell_type": "code",
   "execution_count": 147,
   "metadata": {},
   "outputs": [
    {
     "data": {
      "text/plain": [
       "{'name': 'Tanglin Halt Market',\n",
       " 'code': 'THM',\n",
       " 'address': '48A Tanglin Halt Rd, Singapore 148813',\n",
       " 'image': '',\n",
       " 'date': '16052020',\n",
       " 'stalls': [{'stallId': 'THM_01-01',\n",
       "   'name': 'Cafe 66',\n",
       "   'available': True,\n",
       "   'food': [{'name': \"Coffee 'O'\",\n",
       "     'id': 1,\n",
       "     'description': 'Black coffee',\n",
       "     'price': 0.7,\n",
       "     'image': '',\n",
       "     'available': True,\n",
       "     'quantity': 10},\n",
       "    {'name': 'Coffee w Milk',\n",
       "     'id': 2,\n",
       "     'description': '',\n",
       "     'price': 0.9,\n",
       "     'image': '',\n",
       "     'available': True,\n",
       "     'quantity': -1}]}],\n",
       " 'orderAvailable': True,\n",
       " 'meal': 'lunch'}"
      ]
     },
     "execution_count": 147,
     "metadata": {},
     "output_type": "execute_result"
    }
   ],
   "source": [
    "fetch_listing(db, \"16052020\")"
   ]
  },
  {
   "cell_type": "code",
   "execution_count": 136,
   "metadata": {},
   "outputs": [],
   "source": [
    "insert_listing(db, \"16052020\", \"THM\", \"lunch\")"
   ]
  },
  {
   "cell_type": "code",
   "execution_count": 133,
   "metadata": {},
   "outputs": [
    {
     "data": {
      "text/plain": [
       "1"
      ]
     },
     "execution_count": 133,
     "metadata": {},
     "output_type": "execute_result"
    }
   ],
   "source": [
    "del_listing(db, \"16052020\")"
   ]
  }
 ],
 "metadata": {
  "kernelspec": {
   "display_name": "Python 3",
   "language": "python",
   "name": "python3"
  },
  "language_info": {
   "codemirror_mode": {
    "name": "ipython",
    "version": 3
   },
   "file_extension": ".py",
   "mimetype": "text/x-python",
   "name": "python",
   "nbconvert_exporter": "python",
   "pygments_lexer": "ipython3",
   "version": "3.7.7"
  }
 },
 "nbformat": 4,
 "nbformat_minor": 4
}
